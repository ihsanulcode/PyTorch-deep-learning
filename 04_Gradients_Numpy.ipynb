{
  "nbformat": 4,
  "nbformat_minor": 0,
  "metadata": {
    "colab": {
      "provenance": []
    },
    "kernelspec": {
      "name": "python3",
      "display_name": "Python 3"
    },
    "language_info": {
      "name": "python"
    }
  },
  "cells": [
    {
      "cell_type": "code",
      "execution_count": 1,
      "metadata": {
        "colab": {
          "base_uri": "https://localhost:8080/"
        },
        "id": "4KxWbi8NmKnd",
        "outputId": "38f952f4-e5fe-4f09-e859-50be45ccb561"
      },
      "outputs": [
        {
          "output_type": "stream",
          "name": "stdout",
          "text": [
            "epoch: 1 w= 1.2 loss: 30.0\n",
            "epoch: 2 w= 1.6799999618530272 loss: 4.799999\n",
            "epoch: 3 w= 1.871999988555908 loss: 0.7680002\n",
            "epoch: 4 w= 1.9487999868392942 loss: 0.12288\n",
            "epoch: 5 w= 1.9795200133323667 loss: 0.019660834\n",
            "epoch: 6 w= 1.9918080282211301 loss: 0.0031457357\n",
            "epoch: 7 w= 1.9967231869697568 loss: 0.000503308\n",
            "epoch: 8 w= 1.99868928194046 loss: 8.053186e-05\n",
            "epoch: 9 w= 1.999475698471069 loss: 1.2884395e-05\n",
            "epoch: 10 w= 1.999790253639221 loss: 2.0613531e-06\n",
            "epoch: 11 w= 1.9999160599708554 loss: 3.29734e-07\n",
            "epoch: 12 w= 1.9999664139747617 loss: 5.2823452e-08\n",
            "epoch: 13 w= 1.9999865984916685 loss: 8.487817e-09\n",
            "epoch: 14 w= 1.9999946093559262 loss: 1.3369572e-09\n",
            "epoch: 15 w= 1.9999978351593015 loss: 2.1679014e-10\n",
            "epoch: 16 w= 1.9999991369247434 loss: 3.5313974e-11\n",
            "epoch: 17 w= 1.9999996304512022 loss: 5.076828e-12\n",
            "epoch: 18 w= 1.999999837875366 loss: 8.9883656e-13\n",
            "epoch: 19 w= 1.9999999165534972 loss: 1.314504e-13\n",
            "epoch: 20 w= 1.9999999952316283 loss: 1.314504e-13\n",
            "epoch: 21 w= 1.9999999952316283 loss: 0.0\n",
            "epoch: 22 w= 1.9999999952316283 loss: 0.0\n",
            "epoch: 23 w= 1.9999999952316283 loss: 0.0\n",
            "epoch: 24 w= 1.9999999952316283 loss: 0.0\n",
            "epoch: 25 w= 1.9999999952316283 loss: 0.0\n",
            "epoch: 26 w= 1.9999999952316283 loss: 0.0\n",
            "epoch: 27 w= 1.9999999952316283 loss: 0.0\n",
            "epoch: 28 w= 1.9999999952316283 loss: 0.0\n",
            "epoch: 29 w= 1.9999999952316283 loss: 0.0\n",
            "epoch: 30 w= 1.9999999952316283 loss: 0.0\n",
            "input: 5 Prediction: 9.999999976158142\n"
          ]
        }
      ],
      "source": [
        "import numpy as np\n",
        "\n",
        "# Data\n",
        "x = np.array([1,2,3,4], dtype=np.float32)\n",
        "y = np.array([2,4,6,8], dtype=np.float32)\n",
        "\n",
        "# Initialize weight\n",
        "w = 0.0\n",
        "\n",
        "# F = W * x\n",
        "\n",
        "# Model\n",
        "def forward(x):\n",
        "  return w*x\n",
        "\n",
        "# Loss = MSE\n",
        "def loss(y,y_pred):\n",
        "  return ((y_pred-y)**2).mean()\n",
        "\n",
        "# Gradient calculation\n",
        "def gradient(x,y,y_pred):\n",
        "  return np.dot(2*x,y_pred-y).mean()\n",
        "\n",
        "# Training\n",
        "lr = 0.01\n",
        "epochs = 30\n",
        "\n",
        "for epoch in range(epochs):\n",
        "  # Forward pass\n",
        "  y_pred = forward(x)\n",
        "  # Loss Calculation\n",
        "  l = loss(y,y_pred)\n",
        "  # Gradient\n",
        "  grad = gradient(x,y,y_pred)\n",
        "  # Update weights\n",
        "  w = w - lr*grad\n",
        "\n",
        "  if epoch%1==0:\n",
        "    print('epoch:',epoch+1,'w=',w,'loss:',l)\n",
        "\n",
        "# Prediction\n",
        "input = 5\n",
        "print('input:',input,\"Prediction:\",forward(input))"
      ]
    }
  ]
}