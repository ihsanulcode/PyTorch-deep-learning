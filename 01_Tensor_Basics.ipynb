{
  "nbformat": 4,
  "nbformat_minor": 0,
  "metadata": {
    "colab": {
      "provenance": [],
      "toc_visible": true,
      "gpuType": "T4"
    },
    "kernelspec": {
      "name": "python3",
      "display_name": "Python 3"
    },
    "language_info": {
      "name": "python"
    },
    "accelerator": "GPU"
  },
  "cells": [
    {
      "cell_type": "markdown",
      "source": [
        "# Tensor Basics\n",
        "\n",
        "In PyTorch, a tensor is a fundamental data structure that represents multi-dimensional arrays. Tensors are similar to NumPy arrays but come with additional capabilities, especially when it comes to GPU acceleration and automatic differentiation for building and training neural networks.\n",
        "\n",
        "Tensors can have different dimensions, similar to arrays or matrices, but they can also have additional dimensions. Here are a few examples of tensors and their corresponding dimensions:\n",
        "\n",
        "* 1D Tensor: Similar to a vector.\n",
        "* 2D Tensor: Similar to a matrix.\n",
        "* 3D Tensor: Often used to represent sequences of matrices or images with multiple channels (height, width, channel).\n",
        "* 4D Tensor: Used for batched images (batch size, channel, height, width) or sequences of 3D tensors.\n",
        "* 5D Tensor and beyond: Used for more complex data structures.\n",
        "\n",
        "Tensors can hold data of various data types, such as float, integer, and more. They can also be moved between the CPU and GPU for efficient computation, which is particularly important when working with deep learning models."
      ],
      "metadata": {
        "id": "ssqpNFSGUSgC"
      }
    },
    {
      "cell_type": "code",
      "source": [
        "import torch\n",
        "\n",
        "# Empty tensor Returns a tensor filled with uninitialized data. The shape of the tensor is defined by the variable argument size.\n",
        "x = torch.empty(1)\n",
        "print(x)\n",
        "y = torch.empty(2,2)\n",
        "print(y)\n",
        "print(y.dtype)"
      ],
      "metadata": {
        "colab": {
          "base_uri": "https://localhost:8080/"
        },
        "id": "iK_NjIIrUyKK",
        "outputId": "3d11ac11-3078-4228-ee40-02e8dbb87942"
      },
      "execution_count": 5,
      "outputs": [
        {
          "output_type": "stream",
          "name": "stdout",
          "text": [
            "tensor([6.7593e-31])\n",
            "tensor([[4.0553e-34, 3.3408e-41],\n",
            "        [5.1957e+07, 3.3408e-41]])\n",
            "torch.float32\n"
          ]
        }
      ]
    },
    {
      "cell_type": "code",
      "source": [
        "y = torch.empty(2,2, dtype=torch.int64)\n",
        "print(y)\n",
        "print(y.dtype)"
      ],
      "metadata": {
        "colab": {
          "base_uri": "https://localhost:8080/"
        },
        "id": "J2F2s_aJVBwD",
        "outputId": "ba21c1d7-764e-4da4-b6c2-2ceb737197e4"
      },
      "execution_count": 6,
      "outputs": [
        {
          "output_type": "stream",
          "name": "stdout",
          "text": [
            "tensor([[135996357344624, 135996357344624],\n",
            "        [              1, 102396449965632]])\n",
            "torch.int64\n"
          ]
        }
      ]
    },
    {
      "cell_type": "code",
      "source": [
        "x = torch.ones(3,3,dtype=torch.int64)\n",
        "print(x,x.dtype,x.size())"
      ],
      "metadata": {
        "colab": {
          "base_uri": "https://localhost:8080/"
        },
        "id": "5hqgZBbpWCf0",
        "outputId": "f33eae40-210b-418c-b782-3e110d417ca0"
      },
      "execution_count": 7,
      "outputs": [
        {
          "output_type": "stream",
          "name": "stdout",
          "text": [
            "tensor([[1, 1, 1],\n",
            "        [1, 1, 1],\n",
            "        [1, 1, 1]]) torch.int64 torch.Size([3, 3])\n"
          ]
        }
      ]
    },
    {
      "cell_type": "markdown",
      "source": [
        "# torch.tensor\n",
        "A torch.Tensor is a multi-dimensional matrix containing elements of a single data type."
      ],
      "metadata": {
        "id": "YxFRJnKhWya0"
      }
    },
    {
      "cell_type": "code",
      "source": [
        "x = torch.tensor([[1,2,3],\n",
        "                 [4,5,6],\n",
        "                 [7,8,9]])\n",
        "print(x,x.dtype,x.size())"
      ],
      "metadata": {
        "colab": {
          "base_uri": "https://localhost:8080/"
        },
        "id": "1nwTfX3kWfOy",
        "outputId": "781ed869-1ab9-43a2-ce66-59a429c4f452"
      },
      "execution_count": 8,
      "outputs": [
        {
          "output_type": "stream",
          "name": "stdout",
          "text": [
            "tensor([[1, 2, 3],\n",
            "        [4, 5, 6],\n",
            "        [7, 8, 9]]) torch.int64 torch.Size([3, 3])\n"
          ]
        }
      ]
    },
    {
      "cell_type": "code",
      "source": [
        "y = torch.tensor([[1., -1.], [1., -1.]])\n",
        "print(y,y.dtype,y.size())"
      ],
      "metadata": {
        "colab": {
          "base_uri": "https://localhost:8080/"
        },
        "id": "hdmMFCMdW7zK",
        "outputId": "8851b922-d6a9-4403-c019-d4fccadfa1d7"
      },
      "execution_count": 9,
      "outputs": [
        {
          "output_type": "stream",
          "name": "stdout",
          "text": [
            "tensor([[ 1., -1.],\n",
            "        [ 1., -1.]]) torch.float32 torch.Size([2, 2])\n"
          ]
        }
      ]
    },
    {
      "cell_type": "markdown",
      "source": [
        "# torch.rand\n",
        "Returns a tensor filled with random numbers from a uniform distribution on the interval [0,1). The shape of the tensor is defined by the variable argument size."
      ],
      "metadata": {
        "id": "fJ-qFNDuXWbi"
      }
    },
    {
      "cell_type": "code",
      "source": [
        "torch.rand(4)"
      ],
      "metadata": {
        "colab": {
          "base_uri": "https://localhost:8080/"
        },
        "id": "zBCRkapBW8Uy",
        "outputId": "b2882b71-83fc-4dff-f5ff-6813f70e5e5a"
      },
      "execution_count": 10,
      "outputs": [
        {
          "output_type": "execute_result",
          "data": {
            "text/plain": [
              "tensor([0.2395, 0.7307, 0.5425, 0.3977])"
            ]
          },
          "metadata": {},
          "execution_count": 10
        }
      ]
    },
    {
      "cell_type": "code",
      "source": [
        "r = torch.rand(2, 3)\n",
        "print(r,r.dtype,r.size())"
      ],
      "metadata": {
        "colab": {
          "base_uri": "https://localhost:8080/"
        },
        "id": "RsTgfCDdXnf7",
        "outputId": "2fff4595-13ee-450c-b500-15814cbb1058"
      },
      "execution_count": 11,
      "outputs": [
        {
          "output_type": "stream",
          "name": "stdout",
          "text": [
            "tensor([[0.8166, 0.2079, 0.5164],\n",
            "        [0.9270, 0.5086, 0.7698]]) torch.float32 torch.Size([2, 3])\n"
          ]
        }
      ]
    },
    {
      "cell_type": "markdown",
      "source": [
        "# torch.add\n",
        "**torch.add(input, other, *, alpha=1, out=None) → Tensor**\n",
        "\n",
        "Adds other, scaled by alpha, to input.\n",
        "\n",
        "out = input + alpha x other\n"
      ],
      "metadata": {
        "id": "suBnctFvYWai"
      }
    },
    {
      "cell_type": "code",
      "source": [
        "x = torch.rand(2,2)\n",
        "y = torch.rand(2,2)\n",
        "z = torch.add(x,y)\n",
        "print(x)\n",
        "print(y)\n",
        "print(z)"
      ],
      "metadata": {
        "colab": {
          "base_uri": "https://localhost:8080/"
        },
        "id": "qBkt2ZdoXpM7",
        "outputId": "09d5deaa-e1b8-4771-fd4d-96c878b525a1"
      },
      "execution_count": 12,
      "outputs": [
        {
          "output_type": "stream",
          "name": "stdout",
          "text": [
            "tensor([[0.7062, 0.8830],\n",
            "        [0.9790, 0.2462]])\n",
            "tensor([[0.1946, 0.8576],\n",
            "        [0.6507, 0.6009]])\n",
            "tensor([[0.9008, 1.7406],\n",
            "        [1.6297, 0.8471]])\n"
          ]
        }
      ]
    },
    {
      "cell_type": "markdown",
      "source": [
        "# torch.sub\n",
        "**torch.sub(input, other, *, alpha=1, out=None) → Tensor**\n",
        "\n",
        "out = input - alpha x other"
      ],
      "metadata": {
        "id": "a_oOGK_fZiWb"
      }
    },
    {
      "cell_type": "code",
      "source": [
        "a = torch.tensor((1, 2))\n",
        "b = torch.tensor((0, 1))\n",
        "torch.sub(a, b)"
      ],
      "metadata": {
        "colab": {
          "base_uri": "https://localhost:8080/"
        },
        "id": "XY9UREmgZybT",
        "outputId": "29144096-3ee5-4ec4-8a7a-259cf624b04e"
      },
      "execution_count": 13,
      "outputs": [
        {
          "output_type": "execute_result",
          "data": {
            "text/plain": [
              "tensor([1, 1])"
            ]
          },
          "metadata": {},
          "execution_count": 13
        }
      ]
    },
    {
      "cell_type": "markdown",
      "source": [
        "# torch.mul\n",
        "**torch.mul(input, other, *, out=None) → Tensor**\n",
        "\n",
        "outi = inputi x otheri"
      ],
      "metadata": {
        "id": "D4E-MaRJaJcU"
      }
    },
    {
      "cell_type": "code",
      "source": [
        "a = torch.randn(3)\n",
        "print(a)\n",
        "torch.mul(a, 100)"
      ],
      "metadata": {
        "colab": {
          "base_uri": "https://localhost:8080/"
        },
        "id": "V_7d3tssaNFq",
        "outputId": "3b556fb1-6447-4e0e-9fdc-a050696a993c"
      },
      "execution_count": 14,
      "outputs": [
        {
          "output_type": "stream",
          "name": "stdout",
          "text": [
            "tensor([-1.6904,  0.7160, -0.7370])\n"
          ]
        },
        {
          "output_type": "execute_result",
          "data": {
            "text/plain": [
              "tensor([-169.0403,   71.6046,  -73.6981])"
            ]
          },
          "metadata": {},
          "execution_count": 14
        }
      ]
    },
    {
      "cell_type": "code",
      "source": [
        "b = torch.randn(4, 1)\n",
        "print(b)\n",
        "c = torch.randn(1, 4)\n",
        "print(c)\n",
        "torch.mul(b, c)"
      ],
      "metadata": {
        "colab": {
          "base_uri": "https://localhost:8080/"
        },
        "id": "HRj4kZkBaRsD",
        "outputId": "d1c5b7ec-2391-4934-b12b-750067a89970"
      },
      "execution_count": 15,
      "outputs": [
        {
          "output_type": "stream",
          "name": "stdout",
          "text": [
            "tensor([[ 0.2178],\n",
            "        [ 1.7567],\n",
            "        [-2.1379],\n",
            "        [-0.8200]])\n",
            "tensor([[ 0.0477,  0.6900,  0.6302, -2.0508]])\n"
          ]
        },
        {
          "output_type": "execute_result",
          "data": {
            "text/plain": [
              "tensor([[ 0.0104,  0.1503,  0.1372, -0.4466],\n",
              "        [ 0.0838,  1.2121,  1.1071, -3.6027],\n",
              "        [-0.1020, -1.4751, -1.3473,  4.3844],\n",
              "        [-0.0391, -0.5658, -0.5168,  1.6817]])"
            ]
          },
          "metadata": {},
          "execution_count": 15
        }
      ]
    },
    {
      "cell_type": "code",
      "source": [
        "a = torch.tensor([[2,6],\n",
        "                  [1,9]])\n",
        "b = torch.tensor([[1,2],\n",
        "                  [1,9]])\n",
        "\n",
        "print(a,a.size())\n",
        "print(b,b.size())\n",
        "\n",
        "c = torch.mul(a,b)\n",
        "print(c)"
      ],
      "metadata": {
        "colab": {
          "base_uri": "https://localhost:8080/"
        },
        "id": "KSjU_gR-aeyM",
        "outputId": "e1f2df2d-f7e5-4302-ee32-8c6f1dfcef13"
      },
      "execution_count": 16,
      "outputs": [
        {
          "output_type": "stream",
          "name": "stdout",
          "text": [
            "tensor([[2, 6],\n",
            "        [1, 9]]) torch.Size([2, 2])\n",
            "tensor([[1, 2],\n",
            "        [1, 9]]) torch.Size([2, 2])\n",
            "tensor([[ 2, 12],\n",
            "        [ 1, 81]])\n"
          ]
        }
      ]
    },
    {
      "cell_type": "markdown",
      "source": [
        "# torch.div\n",
        "**torch.div(input, other, *, rounding_mode=None, out=None) → Tensor**\n",
        "\n",
        "outi = inputi / otheri"
      ],
      "metadata": {
        "id": "kSL0QuwVdkgt"
      }
    },
    {
      "cell_type": "code",
      "source": [
        "a = torch.tensor([[2,6],\n",
        "                  [1,9]])\n",
        "b = torch.tensor([[1,2],\n",
        "                  [1,9]])\n",
        "\n",
        "print(a,a.size())\n",
        "print(b,b.size())\n",
        "\n",
        "c = torch.div(a,b)\n",
        "print(c)"
      ],
      "metadata": {
        "colab": {
          "base_uri": "https://localhost:8080/"
        },
        "id": "cgiRXswhbF0E",
        "outputId": "de2f6923-125e-4f1f-c504-bd5aac03f3e8"
      },
      "execution_count": 17,
      "outputs": [
        {
          "output_type": "stream",
          "name": "stdout",
          "text": [
            "tensor([[2, 6],\n",
            "        [1, 9]]) torch.Size([2, 2])\n",
            "tensor([[1, 2],\n",
            "        [1, 9]]) torch.Size([2, 2])\n",
            "tensor([[2., 3.],\n",
            "        [1., 1.]])\n"
          ]
        }
      ]
    },
    {
      "cell_type": "markdown",
      "source": [
        "# Tensor slicing"
      ],
      "metadata": {
        "id": "uktFtLH3eEz1"
      }
    },
    {
      "cell_type": "code",
      "source": [
        "x = torch.tensor([[1,2,3,],\n",
        "                 [4,5,6],\n",
        "                 [7,8,9]])\n",
        "print(x)"
      ],
      "metadata": {
        "colab": {
          "base_uri": "https://localhost:8080/"
        },
        "id": "Xrqizogxdu9z",
        "outputId": "f98919fa-c611-4b9d-8ad4-3093f7cb60ef"
      },
      "execution_count": 18,
      "outputs": [
        {
          "output_type": "stream",
          "name": "stdout",
          "text": [
            "tensor([[1, 2, 3],\n",
            "        [4, 5, 6],\n",
            "        [7, 8, 9]])\n"
          ]
        }
      ]
    },
    {
      "cell_type": "code",
      "source": [
        "# print(x[:1])\n",
        "print(x[1:2])"
      ],
      "metadata": {
        "colab": {
          "base_uri": "https://localhost:8080/"
        },
        "id": "2ZisI25VeTUT",
        "outputId": "ffa915c5-e513-443b-b4b1-6551823f9d07"
      },
      "execution_count": 19,
      "outputs": [
        {
          "output_type": "stream",
          "name": "stdout",
          "text": [
            "tensor([[4, 5, 6]])\n"
          ]
        }
      ]
    },
    {
      "cell_type": "markdown",
      "source": [
        "# Numpy and Tensor"
      ],
      "metadata": {
        "id": "xKCUah-5jKT0"
      }
    },
    {
      "cell_type": "code",
      "source": [
        "import torch\n",
        "import numpy as np\n",
        "\n",
        "a = torch.ones(5)\n",
        "print(a,type(a))\n",
        "b = a.numpy()\n",
        "print(b,type(b))"
      ],
      "metadata": {
        "colab": {
          "base_uri": "https://localhost:8080/"
        },
        "id": "gvj_FJFujMz7",
        "outputId": "fafdfcf7-31a6-45bd-ac39-3db811274ea6"
      },
      "execution_count": 20,
      "outputs": [
        {
          "output_type": "stream",
          "name": "stdout",
          "text": [
            "tensor([1., 1., 1., 1., 1.]) <class 'torch.Tensor'>\n",
            "[1. 1. 1. 1. 1.] <class 'numpy.ndarray'>\n"
          ]
        }
      ]
    },
    {
      "cell_type": "code",
      "source": [
        "a = np.ones(5)\n",
        "print(a)\n",
        "b = torch.from_numpy(a)\n",
        "print(b)"
      ],
      "metadata": {
        "colab": {
          "base_uri": "https://localhost:8080/"
        },
        "id": "S_cmlJXTjg-s",
        "outputId": "f89ec2d7-19e6-4daf-e962-1a0680dd1a55"
      },
      "execution_count": 21,
      "outputs": [
        {
          "output_type": "stream",
          "name": "stdout",
          "text": [
            "[1. 1. 1. 1. 1.]\n",
            "tensor([1., 1., 1., 1., 1.], dtype=torch.float64)\n"
          ]
        }
      ]
    },
    {
      "cell_type": "code",
      "source": [
        "if torch.cuda.is_available():\n",
        "  device = torch.device(\"cuda\")\n",
        "  x = torch.ones(5,device=device)\n",
        "  b = a.numpy() #AttributeError: 'numpy.ndarray' object has no attribute 'numpy'\n",
        "  print(b,type(b))"
      ],
      "metadata": {
        "colab": {
          "base_uri": "https://localhost:8080/",
          "height": 227
        },
        "id": "87uPL1yckFUU",
        "outputId": "0f80b40b-fb49-4942-b1f6-260877bbeaa3"
      },
      "execution_count": 22,
      "outputs": [
        {
          "output_type": "error",
          "ename": "AttributeError",
          "evalue": "ignored",
          "traceback": [
            "\u001b[0;31m---------------------------------------------------------------------------\u001b[0m",
            "\u001b[0;31mAttributeError\u001b[0m                            Traceback (most recent call last)",
            "\u001b[0;32m<ipython-input-22-95a91607682d>\u001b[0m in \u001b[0;36m<cell line: 1>\u001b[0;34m()\u001b[0m\n\u001b[1;32m      2\u001b[0m   \u001b[0mdevice\u001b[0m \u001b[0;34m=\u001b[0m \u001b[0mtorch\u001b[0m\u001b[0;34m.\u001b[0m\u001b[0mdevice\u001b[0m\u001b[0;34m(\u001b[0m\u001b[0;34m\"cuda\"\u001b[0m\u001b[0;34m)\u001b[0m\u001b[0;34m\u001b[0m\u001b[0;34m\u001b[0m\u001b[0m\n\u001b[1;32m      3\u001b[0m   \u001b[0mx\u001b[0m \u001b[0;34m=\u001b[0m \u001b[0mtorch\u001b[0m\u001b[0;34m.\u001b[0m\u001b[0mones\u001b[0m\u001b[0;34m(\u001b[0m\u001b[0;36m5\u001b[0m\u001b[0;34m,\u001b[0m\u001b[0mdevice\u001b[0m\u001b[0;34m=\u001b[0m\u001b[0mdevice\u001b[0m\u001b[0;34m)\u001b[0m\u001b[0;34m\u001b[0m\u001b[0;34m\u001b[0m\u001b[0m\n\u001b[0;32m----> 4\u001b[0;31m   \u001b[0mb\u001b[0m \u001b[0;34m=\u001b[0m \u001b[0ma\u001b[0m\u001b[0;34m.\u001b[0m\u001b[0mnumpy\u001b[0m\u001b[0;34m(\u001b[0m\u001b[0;34m)\u001b[0m\u001b[0;34m\u001b[0m\u001b[0;34m\u001b[0m\u001b[0m\n\u001b[0m\u001b[1;32m      5\u001b[0m   \u001b[0mprint\u001b[0m\u001b[0;34m(\u001b[0m\u001b[0mb\u001b[0m\u001b[0;34m,\u001b[0m\u001b[0mtype\u001b[0m\u001b[0;34m(\u001b[0m\u001b[0mb\u001b[0m\u001b[0;34m)\u001b[0m\u001b[0;34m)\u001b[0m\u001b[0;34m\u001b[0m\u001b[0;34m\u001b[0m\u001b[0m\n",
            "\u001b[0;31mAttributeError\u001b[0m: 'numpy.ndarray' object has no attribute 'numpy'"
          ]
        }
      ]
    },
    {
      "cell_type": "code",
      "source": [
        "y = torch.ones(5)\n",
        "y = y.to(device)\n",
        "z = x+y\n",
        "z"
      ],
      "metadata": {
        "colab": {
          "base_uri": "https://localhost:8080/"
        },
        "id": "1DrTBujIk8Gl",
        "outputId": "56e55956-1238-488d-c139-a18e8aa1907b"
      },
      "execution_count": 24,
      "outputs": [
        {
          "output_type": "execute_result",
          "data": {
            "text/plain": [
              "tensor([2., 2., 2., 2., 2.], device='cuda:0')"
            ]
          },
          "metadata": {},
          "execution_count": 24
        }
      ]
    },
    {
      "cell_type": "code",
      "source": [
        "z = z.to('cpu')\n",
        "z"
      ],
      "metadata": {
        "colab": {
          "base_uri": "https://localhost:8080/"
        },
        "id": "-wOAeb4KlG5k",
        "outputId": "de65acbf-9ff1-4a96-d084-68e68f65c6e1"
      },
      "execution_count": 26,
      "outputs": [
        {
          "output_type": "execute_result",
          "data": {
            "text/plain": [
              "tensor([2., 2., 2., 2., 2.])"
            ]
          },
          "metadata": {},
          "execution_count": 26
        }
      ]
    },
    {
      "cell_type": "code",
      "source": [
        "new = z.numpy()\n",
        "print(new,type(new))"
      ],
      "metadata": {
        "colab": {
          "base_uri": "https://localhost:8080/"
        },
        "id": "2u1qY-LElNrE",
        "outputId": "e757fd08-a600-42a2-f56a-4bcc1acaa390"
      },
      "execution_count": 27,
      "outputs": [
        {
          "output_type": "stream",
          "name": "stdout",
          "text": [
            "[2. 2. 2. 2. 2.] <class 'numpy.ndarray'>\n"
          ]
        }
      ]
    }
  ]
}