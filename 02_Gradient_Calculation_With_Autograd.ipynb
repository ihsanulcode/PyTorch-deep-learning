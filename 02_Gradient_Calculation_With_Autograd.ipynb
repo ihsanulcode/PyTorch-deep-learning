{
  "nbformat": 4,
  "nbformat_minor": 0,
  "metadata": {
    "colab": {
      "provenance": [],
      "toc_visible": true
    },
    "kernelspec": {
      "name": "python3",
      "display_name": "Python 3"
    },
    "language_info": {
      "name": "python"
    }
  },
  "cells": [
    {
      "cell_type": "markdown",
      "source": [
        "# TORCH.AUTOGRAD\n",
        "\n",
        "torch.autograd is PyTorch’s automatic differentiation engine that powers neural network training. In this section, you will get a conceptual understanding of how autograd helps a neural network train."
      ],
      "metadata": {
        "id": "BezXhohRv35H"
      }
    },
    {
      "cell_type": "code",
      "execution_count": null,
      "metadata": {
        "colab": {
          "base_uri": "https://localhost:8080/"
        },
        "id": "GTCx7G1zneUD",
        "outputId": "73e61b4a-58f2-4e60-b759-f8c8a755b228"
      },
      "outputs": [
        {
          "output_type": "stream",
          "name": "stdout",
          "text": [
            "tensor([ 0.2282, -0.4150, -1.6290], requires_grad=True)\n",
            "tensor([2.2282, 1.5850, 0.3710], grad_fn=<AddBackward0>)\n",
            "tensor(5.0764, grad_fn=<MeanBackward0>)\n"
          ]
        }
      ],
      "source": [
        "import torch\n",
        "\n",
        "x = torch.randn(3, requires_grad=True)\n",
        "print(x)\n",
        "\n",
        "y = x+2 # Do an operation with x tensor\n",
        "print(y)\n",
        "z = 2*y*y # Another operation with y tensor\n",
        "z = z.mean()\n",
        "print(z)"
      ]
    },
    {
      "cell_type": "code",
      "source": [
        "# Calculate Gradient\n",
        "z.backward() # dz/dx\n",
        "print(x.grad)"
      ],
      "metadata": {
        "colab": {
          "base_uri": "https://localhost:8080/"
        },
        "id": "2EZKyp3DpGy0",
        "outputId": "1c82584a-9ed7-4903-8ce0-4cc5453550a8"
      },
      "execution_count": null,
      "outputs": [
        {
          "output_type": "stream",
          "name": "stdout",
          "text": [
            "tensor([2.9709, 2.1133, 0.4947])\n"
          ]
        }
      ]
    },
    {
      "cell_type": "code",
      "source": [
        "import torch\n",
        "\n",
        "weights = torch.ones(4, requires_grad=True)\n",
        "\n",
        "for epoch in range(3):\n",
        "  model_output = (weights*3).sum()\n",
        "  model_output.backward()\n",
        "  print(weights.grad)\n",
        "  weights.grad.zero_()"
      ],
      "metadata": {
        "colab": {
          "base_uri": "https://localhost:8080/"
        },
        "id": "wtRIIk_rs0wk",
        "outputId": "3cd31671-a7af-4749-d342-f07c8da4dab4"
      },
      "execution_count": null,
      "outputs": [
        {
          "output_type": "stream",
          "name": "stdout",
          "text": [
            "tensor([3., 3., 3., 3.])\n",
            "tensor([3., 3., 3., 3.])\n",
            "tensor([3., 3., 3., 3.])\n"
          ]
        }
      ]
    }
  ]
}